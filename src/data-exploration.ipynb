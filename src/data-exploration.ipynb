{
 "cells": [
  {
   "cell_type": "code",
   "execution_count": 336,
   "metadata": {},
   "outputs": [],
   "source": [
    "import pandas as pd\n",
    "import operator\n",
    "import seaborn as sns\n",
    "import matplotlib.pyplot as plt\n",
    "import warnings\n",
    "warnings.filterwarnings('ignore')"
   ]
  },
  {
   "cell_type": "markdown",
   "metadata": {},
   "source": [
    "### Cleaning"
   ]
  },
  {
   "cell_type": "code",
   "execution_count": 337,
   "metadata": {},
   "outputs": [
    {
     "data": {
      "text/plain": [
       "' \\norder_id  \\nactivation_time_local: local time when the order was activated  \\ncountry_code  \\nstore_address  \\nfinal_status  \\npayment_status  \\nproducts: number of products in the order  \\nproducts_total: total amount at checkout (€)  \\npurchase_total_price: amount the courier paid at the store (€)   \\n'"
      ]
     },
     "execution_count": 337,
     "metadata": {},
     "output_type": "execute_result"
    }
   ],
   "source": [
    "# first row appears as column names (headers)\n",
    "# column names\n",
    "\"\"\" \n",
    "order_id  \n",
    "activation_time_local: local time when the order was activated  \n",
    "country_code  \n",
    "store_address  \n",
    "final_status  \n",
    "payment_status  \n",
    "products: number of products in the order  \n",
    "products_total: total amount at checkout (€)  \n",
    "purchase_total_price: amount the courier paid at the store (€)   \n",
    "\"\"\""
   ]
  },
  {
   "cell_type": "code",
   "execution_count": 338,
   "metadata": {},
   "outputs": [
    {
     "data": {
      "text/plain": [
       "(60400, 9)"
      ]
     },
     "execution_count": 338,
     "metadata": {},
     "output_type": "execute_result"
    }
   ],
   "source": [
    "orders = pd.read_csv(\"../data/orders.csv\", header=None)\n",
    "orders.shape\n"
   ]
  },
  {
   "cell_type": "code",
   "execution_count": 339,
   "metadata": {},
   "outputs": [],
   "source": [
    "orders.columns =['order_id', 'activation_time_local', 'country_code', 'store_address','final_status', 'payment_status', 'products', 'products_total','purchase_total_price']"
   ]
  },
  {
   "cell_type": "code",
   "execution_count": 340,
   "metadata": {},
   "outputs": [
    {
     "data": {
      "text/plain": [
       "order_id                 0\n",
       "activation_time_local    0\n",
       "country_code             0\n",
       "store_address            0\n",
       "final_status             0\n",
       "payment_status           0\n",
       "products                 0\n",
       "products_total           0\n",
       "purchase_total_price     0\n",
       "dtype: int64"
      ]
     },
     "execution_count": 340,
     "metadata": {},
     "output_type": "execute_result"
    }
   ],
   "source": [
    "orders.isna().sum()"
   ]
  },
  {
   "cell_type": "code",
   "execution_count": 341,
   "metadata": {},
   "outputs": [
    {
     "data": {
      "text/plain": [
       "payment_status\n",
       "PAID        59856\n",
       "NOT_PAID      537\n",
       "DELAYED         7\n",
       "Name: count, dtype: int64"
      ]
     },
     "execution_count": 341,
     "metadata": {},
     "output_type": "execute_result"
    }
   ],
   "source": [
    "orders[\"payment_status\"].value_counts()\n",
    "#won't get rid of the not paid ones because they're not very significant and wont afect much the results"
   ]
  },
  {
   "cell_type": "code",
   "execution_count": 342,
   "metadata": {},
   "outputs": [],
   "source": [
    "#orders[\"money_diference\"].apply(lambda x: x = orders[\"products_total\"] - orders[\"purchase_total_price\"])\n",
    "orders[\"money_diference_percentage\"] = (orders[\"purchase_total_price\"] - orders[\"products_total\"]) / orders[\"products_total\"] * 100"
   ]
  },
  {
   "cell_type": "code",
   "execution_count": 343,
   "metadata": {},
   "outputs": [
    {
     "data": {
      "text/html": [
       "<div>\n",
       "<style scoped>\n",
       "    .dataframe tbody tr th:only-of-type {\n",
       "        vertical-align: middle;\n",
       "    }\n",
       "\n",
       "    .dataframe tbody tr th {\n",
       "        vertical-align: top;\n",
       "    }\n",
       "\n",
       "    .dataframe thead th {\n",
       "        text-align: right;\n",
       "    }\n",
       "</style>\n",
       "<table border=\"1\" class=\"dataframe\">\n",
       "  <thead>\n",
       "    <tr style=\"text-align: right;\">\n",
       "      <th></th>\n",
       "      <th>order_id</th>\n",
       "      <th>activation_time_local</th>\n",
       "      <th>country_code</th>\n",
       "      <th>store_address</th>\n",
       "      <th>final_status</th>\n",
       "      <th>payment_status</th>\n",
       "      <th>products</th>\n",
       "      <th>products_total</th>\n",
       "      <th>purchase_total_price</th>\n",
       "      <th>money_diference_percentage</th>\n",
       "    </tr>\n",
       "  </thead>\n",
       "  <tbody>\n",
       "    <tr>\n",
       "      <th>0</th>\n",
       "      <td>33557880</td>\n",
       "      <td>2019-03-10 23:59:59.000000</td>\n",
       "      <td>AR</td>\n",
       "      <td>14200</td>\n",
       "      <td>DeliveredStatus</td>\n",
       "      <td>PAID</td>\n",
       "      <td>1</td>\n",
       "      <td>4.54</td>\n",
       "      <td>8.64</td>\n",
       "      <td>90.308370</td>\n",
       "    </tr>\n",
       "    <tr>\n",
       "      <th>1</th>\n",
       "      <td>33512615</td>\n",
       "      <td>2019-03-10 23:58:32.000000</td>\n",
       "      <td>TR</td>\n",
       "      <td>28725</td>\n",
       "      <td>DeliveredStatus</td>\n",
       "      <td>PAID</td>\n",
       "      <td>1</td>\n",
       "      <td>3.76</td>\n",
       "      <td>3.76</td>\n",
       "      <td>0.000000</td>\n",
       "    </tr>\n",
       "    <tr>\n",
       "      <th>2</th>\n",
       "      <td>33512451</td>\n",
       "      <td>2019-03-10 23:57:56.000000</td>\n",
       "      <td>TR</td>\n",
       "      <td>28725</td>\n",
       "      <td>DeliveredStatus</td>\n",
       "      <td>PAID</td>\n",
       "      <td>1</td>\n",
       "      <td>2.86</td>\n",
       "      <td>2.86</td>\n",
       "      <td>0.000000</td>\n",
       "    </tr>\n",
       "    <tr>\n",
       "      <th>3</th>\n",
       "      <td>33530892</td>\n",
       "      <td>2019-03-10 23:57:33.000000</td>\n",
       "      <td>ES</td>\n",
       "      <td>19777</td>\n",
       "      <td>CanceledStatus</td>\n",
       "      <td>PAID</td>\n",
       "      <td>1</td>\n",
       "      <td>12.95</td>\n",
       "      <td>0.00</td>\n",
       "      <td>-100.000000</td>\n",
       "    </tr>\n",
       "    <tr>\n",
       "      <th>4</th>\n",
       "      <td>33557765</td>\n",
       "      <td>2019-03-10 23:57:21.000000</td>\n",
       "      <td>AR</td>\n",
       "      <td>34565</td>\n",
       "      <td>DeliveredStatus</td>\n",
       "      <td>PAID</td>\n",
       "      <td>2</td>\n",
       "      <td>2.86</td>\n",
       "      <td>6.48</td>\n",
       "      <td>126.573427</td>\n",
       "    </tr>\n",
       "    <tr>\n",
       "      <th>...</th>\n",
       "      <td>...</td>\n",
       "      <td>...</td>\n",
       "      <td>...</td>\n",
       "      <td>...</td>\n",
       "      <td>...</td>\n",
       "      <td>...</td>\n",
       "      <td>...</td>\n",
       "      <td>...</td>\n",
       "      <td>...</td>\n",
       "      <td>...</td>\n",
       "    </tr>\n",
       "    <tr>\n",
       "      <th>60395</th>\n",
       "      <td>31960607</td>\n",
       "      <td>2019-03-01 00:04:31.000000</td>\n",
       "      <td>TR</td>\n",
       "      <td>68820</td>\n",
       "      <td>DeliveredStatus</td>\n",
       "      <td>PAID</td>\n",
       "      <td>2</td>\n",
       "      <td>10.17</td>\n",
       "      <td>10.33</td>\n",
       "      <td>1.573255</td>\n",
       "    </tr>\n",
       "    <tr>\n",
       "      <th>60396</th>\n",
       "      <td>32002079</td>\n",
       "      <td>2019-03-01 00:03:53.000000</td>\n",
       "      <td>AR</td>\n",
       "      <td>50175</td>\n",
       "      <td>CanceledStatus</td>\n",
       "      <td>PAID</td>\n",
       "      <td>1</td>\n",
       "      <td>3.80</td>\n",
       "      <td>0.00</td>\n",
       "      <td>-100.000000</td>\n",
       "    </tr>\n",
       "    <tr>\n",
       "      <th>60397</th>\n",
       "      <td>32002046</td>\n",
       "      <td>2019-03-01 00:03:06.000000</td>\n",
       "      <td>AR</td>\n",
       "      <td>55159</td>\n",
       "      <td>DeliveredStatus</td>\n",
       "      <td>PAID</td>\n",
       "      <td>1</td>\n",
       "      <td>4.24</td>\n",
       "      <td>4.91</td>\n",
       "      <td>15.801887</td>\n",
       "    </tr>\n",
       "    <tr>\n",
       "      <th>60398</th>\n",
       "      <td>32001950</td>\n",
       "      <td>2019-03-01 00:01:01.000000</td>\n",
       "      <td>AR</td>\n",
       "      <td>62504</td>\n",
       "      <td>CanceledStatus</td>\n",
       "      <td>PAID</td>\n",
       "      <td>1</td>\n",
       "      <td>4.91</td>\n",
       "      <td>0.00</td>\n",
       "      <td>-100.000000</td>\n",
       "    </tr>\n",
       "    <tr>\n",
       "      <th>60399</th>\n",
       "      <td>32001318</td>\n",
       "      <td>2019-03-01 00:01:00.000000</td>\n",
       "      <td>AR</td>\n",
       "      <td>55159</td>\n",
       "      <td>DeliveredStatus</td>\n",
       "      <td>NOT_PAID</td>\n",
       "      <td>2</td>\n",
       "      <td>5.14</td>\n",
       "      <td>5.58</td>\n",
       "      <td>8.560311</td>\n",
       "    </tr>\n",
       "  </tbody>\n",
       "</table>\n",
       "<p>60400 rows × 10 columns</p>\n",
       "</div>"
      ],
      "text/plain": [
       "       order_id       activation_time_local country_code  store_address  \\\n",
       "0      33557880  2019-03-10 23:59:59.000000           AR          14200   \n",
       "1      33512615  2019-03-10 23:58:32.000000           TR          28725   \n",
       "2      33512451  2019-03-10 23:57:56.000000           TR          28725   \n",
       "3      33530892  2019-03-10 23:57:33.000000           ES          19777   \n",
       "4      33557765  2019-03-10 23:57:21.000000           AR          34565   \n",
       "...         ...                         ...          ...            ...   \n",
       "60395  31960607  2019-03-01 00:04:31.000000           TR          68820   \n",
       "60396  32002079  2019-03-01 00:03:53.000000           AR          50175   \n",
       "60397  32002046  2019-03-01 00:03:06.000000           AR          55159   \n",
       "60398  32001950  2019-03-01 00:01:01.000000           AR          62504   \n",
       "60399  32001318  2019-03-01 00:01:00.000000           AR          55159   \n",
       "\n",
       "          final_status payment_status  products  products_total  \\\n",
       "0      DeliveredStatus           PAID         1            4.54   \n",
       "1      DeliveredStatus           PAID         1            3.76   \n",
       "2      DeliveredStatus           PAID         1            2.86   \n",
       "3       CanceledStatus           PAID         1           12.95   \n",
       "4      DeliveredStatus           PAID         2            2.86   \n",
       "...                ...            ...       ...             ...   \n",
       "60395  DeliveredStatus           PAID         2           10.17   \n",
       "60396   CanceledStatus           PAID         1            3.80   \n",
       "60397  DeliveredStatus           PAID         1            4.24   \n",
       "60398   CanceledStatus           PAID         1            4.91   \n",
       "60399  DeliveredStatus       NOT_PAID         2            5.14   \n",
       "\n",
       "       purchase_total_price  money_diference_percentage  \n",
       "0                      8.64                   90.308370  \n",
       "1                      3.76                    0.000000  \n",
       "2                      2.86                    0.000000  \n",
       "3                      0.00                 -100.000000  \n",
       "4                      6.48                  126.573427  \n",
       "...                     ...                         ...  \n",
       "60395                 10.33                    1.573255  \n",
       "60396                  0.00                 -100.000000  \n",
       "60397                  4.91                   15.801887  \n",
       "60398                  0.00                 -100.000000  \n",
       "60399                  5.58                    8.560311  \n",
       "\n",
       "[60400 rows x 10 columns]"
      ]
     },
     "execution_count": 343,
     "metadata": {},
     "output_type": "execute_result"
    }
   ],
   "source": [
    "orders"
   ]
  },
  {
   "cell_type": "markdown",
   "metadata": {},
   "source": [
    "### Question 1"
   ]
  },
  {
   "cell_type": "code",
   "execution_count": 344,
   "metadata": {},
   "outputs": [],
   "source": [
    "all = len(orders[\"money_diference_percentage\"])\n",
    "under_authorized = len(orders[orders[\"money_diference_percentage\"]< 0])\n",
    "\n",
    "under_authorized_percentage = (under_authorized / all) * 100"
   ]
  },
  {
   "cell_type": "code",
   "execution_count": 345,
   "metadata": {},
   "outputs": [
    {
     "data": {
      "text/plain": [
       "21.961920529801322"
      ]
     },
     "execution_count": 345,
     "metadata": {},
     "output_type": "execute_result"
    }
   ],
   "source": [
    "under_authorized_percentage\n",
    "# percentage of under authoridzed orders"
   ]
  },
  {
   "cell_type": "markdown",
   "metadata": {},
   "source": [
    "### Question 2"
   ]
  },
  {
   "cell_type": "code",
   "execution_count": 346,
   "metadata": {},
   "outputs": [],
   "source": [
    "# What percent of orders would be correctly authorized w/ incremental authorisation  \n",
    "# (+20%) on the amount at checkout? "
   ]
  },
  {
   "cell_type": "code",
   "execution_count": 347,
   "metadata": {},
   "outputs": [],
   "source": [
    "def check_orders(df, threshold, operator):\n",
    "  all_orders = len(df[\"money_diference_percentage\"])\n",
    "  under_authorized = len(df[operator(df[\"money_diference_percentage\"], threshold)])\n",
    "\n",
    "  order_type_percentage = (under_authorized / all_orders) * 100\n",
    "\n",
    "  if threshold ==0:\n",
    "    return f\"{order_type_percentage}% of the orders are under authoridzed orders\"\n",
    "  else:\n",
    "    return f\"{order_type_percentage}% of the orders are correctly authorized w/ incremental authorization\""
   ]
  },
  {
   "cell_type": "code",
   "execution_count": 348,
   "metadata": {},
   "outputs": [
    {
     "data": {
      "text/plain": [
       "'21.961920529801322% of the orders are under authoridzed orders'"
      ]
     },
     "execution_count": 348,
     "metadata": {},
     "output_type": "execute_result"
    }
   ],
   "source": [
    "check_orders(orders, 0, operator.lt)"
   ]
  },
  {
   "cell_type": "code",
   "execution_count": 349,
   "metadata": {},
   "outputs": [
    {
     "data": {
      "text/plain": [
       "'30.96688741721854% of the orders are correctly authorized w/ incremental authorization'"
      ]
     },
     "execution_count": 349,
     "metadata": {},
     "output_type": "execute_result"
    }
   ],
   "source": [
    "check_orders(orders, 20, operator.gt)"
   ]
  },
  {
   "cell_type": "markdown",
   "metadata": {},
   "source": [
    "### Question 3"
   ]
  },
  {
   "cell_type": "code",
   "execution_count": 350,
   "metadata": {},
   "outputs": [
    {
     "data": {
      "text/plain": [
       "country_code\n",
       "AR    13192\n",
       "ES    12806\n",
       "TR     6348\n",
       "PE     4785\n",
       "UA     4119\n",
       "IT     2808\n",
       "EC     2508\n",
       "RO     2167\n",
       "FR     2136\n",
       "EG     1828\n",
       "MA     1632\n",
       "CR     1107\n",
       "CL     1104\n",
       "PA     1013\n",
       "PT      909\n",
       "GT      567\n",
       "GE      546\n",
       "DO      500\n",
       "UY      190\n",
       "KE       94\n",
       "PR       33\n",
       "CI        6\n",
       "BR        2\n",
       "Name: count, dtype: int64"
      ]
     },
     "execution_count": 350,
     "metadata": {},
     "output_type": "execute_result"
    }
   ],
   "source": [
    "orders[\"country_code\"].value_counts()"
   ]
  },
  {
   "cell_type": "code",
   "execution_count": 351,
   "metadata": {},
   "outputs": [
    {
     "data": {
      "text/html": [
       "<div>\n",
       "<style scoped>\n",
       "    .dataframe tbody tr th:only-of-type {\n",
       "        vertical-align: middle;\n",
       "    }\n",
       "\n",
       "    .dataframe tbody tr th {\n",
       "        vertical-align: top;\n",
       "    }\n",
       "\n",
       "    .dataframe thead th {\n",
       "        text-align: right;\n",
       "    }\n",
       "</style>\n",
       "<table border=\"1\" class=\"dataframe\">\n",
       "  <thead>\n",
       "    <tr style=\"text-align: right;\">\n",
       "      <th></th>\n",
       "      <th>money_diference_percentage</th>\n",
       "    </tr>\n",
       "    <tr>\n",
       "      <th>country_code</th>\n",
       "      <th></th>\n",
       "    </tr>\n",
       "  </thead>\n",
       "  <tbody>\n",
       "    <tr>\n",
       "      <th>ES</th>\n",
       "      <td>3195</td>\n",
       "    </tr>\n",
       "    <tr>\n",
       "      <th>AR</th>\n",
       "      <td>2842</td>\n",
       "    </tr>\n",
       "    <tr>\n",
       "      <th>TR</th>\n",
       "      <td>1130</td>\n",
       "    </tr>\n",
       "    <tr>\n",
       "      <th>PE</th>\n",
       "      <td>866</td>\n",
       "    </tr>\n",
       "    <tr>\n",
       "      <th>IT</th>\n",
       "      <td>852</td>\n",
       "    </tr>\n",
       "    <tr>\n",
       "      <th>UA</th>\n",
       "      <td>793</td>\n",
       "    </tr>\n",
       "    <tr>\n",
       "      <th>FR</th>\n",
       "      <td>607</td>\n",
       "    </tr>\n",
       "    <tr>\n",
       "      <th>RO</th>\n",
       "      <td>474</td>\n",
       "    </tr>\n",
       "    <tr>\n",
       "      <th>EC</th>\n",
       "      <td>431</td>\n",
       "    </tr>\n",
       "    <tr>\n",
       "      <th>CR</th>\n",
       "      <td>348</td>\n",
       "    </tr>\n",
       "    <tr>\n",
       "      <th>EG</th>\n",
       "      <td>340</td>\n",
       "    </tr>\n",
       "    <tr>\n",
       "      <th>MA</th>\n",
       "      <td>333</td>\n",
       "    </tr>\n",
       "    <tr>\n",
       "      <th>PT</th>\n",
       "      <td>272</td>\n",
       "    </tr>\n",
       "    <tr>\n",
       "      <th>PA</th>\n",
       "      <td>202</td>\n",
       "    </tr>\n",
       "    <tr>\n",
       "      <th>CL</th>\n",
       "      <td>143</td>\n",
       "    </tr>\n",
       "    <tr>\n",
       "      <th>GE</th>\n",
       "      <td>127</td>\n",
       "    </tr>\n",
       "    <tr>\n",
       "      <th>DO</th>\n",
       "      <td>123</td>\n",
       "    </tr>\n",
       "    <tr>\n",
       "      <th>GT</th>\n",
       "      <td>95</td>\n",
       "    </tr>\n",
       "    <tr>\n",
       "      <th>UY</th>\n",
       "      <td>56</td>\n",
       "    </tr>\n",
       "    <tr>\n",
       "      <th>KE</th>\n",
       "      <td>18</td>\n",
       "    </tr>\n",
       "    <tr>\n",
       "      <th>PR</th>\n",
       "      <td>13</td>\n",
       "    </tr>\n",
       "    <tr>\n",
       "      <th>CI</th>\n",
       "      <td>4</td>\n",
       "    </tr>\n",
       "    <tr>\n",
       "      <th>BR</th>\n",
       "      <td>1</td>\n",
       "    </tr>\n",
       "  </tbody>\n",
       "</table>\n",
       "</div>"
      ],
      "text/plain": [
       "              money_diference_percentage\n",
       "country_code                            \n",
       "ES                                  3195\n",
       "AR                                  2842\n",
       "TR                                  1130\n",
       "PE                                   866\n",
       "IT                                   852\n",
       "UA                                   793\n",
       "FR                                   607\n",
       "RO                                   474\n",
       "EC                                   431\n",
       "CR                                   348\n",
       "EG                                   340\n",
       "MA                                   333\n",
       "PT                                   272\n",
       "PA                                   202\n",
       "CL                                   143\n",
       "GE                                   127\n",
       "DO                                   123\n",
       "GT                                    95\n",
       "UY                                    56\n",
       "KE                                    18\n",
       "PR                                    13\n",
       "CI                                     4\n",
       "BR                                     1"
      ]
     },
     "execution_count": 351,
     "metadata": {},
     "output_type": "execute_result"
    }
   ],
   "source": [
    "grouped = orders.query(\"money_diference_percentage < 0\").groupby(\"country_code\")\n",
    "grouped_df = pd.DataFrame(grouped[\"money_diference_percentage\"].count())\n",
    "grouped_df.sort_values(\"money_diference_percentage\", ascending=False)"
   ]
  },
  {
   "cell_type": "code",
   "execution_count": 352,
   "metadata": {},
   "outputs": [],
   "source": [
    "def check_by_group(df, p_type, percentage, operator):\n",
    "  if p_type == \"country\":\n",
    "    grouped = df[operator(df[\"money_diference_percentage\"], percentage)].groupby(\"country_code\")\n",
    "\n",
    "  elif p_type == \"store\":\n",
    "    grouped = df[operator(df[\"money_diference_percentage\"], percentage)].groupby(\"store_address\")\n",
    "    \n",
    "  else:\n",
    "    return \"invalid parameter, should be 'country' or 'store'\"\n",
    "\n",
    "  df = pd.DataFrame(grouped[\"money_diference_percentage\"].count())\n",
    "  top_10 = df.sort_values(\"money_diference_percentage\", ascending=False).head(10)\n",
    "  top_10 = top_10.reset_index()\n",
    "  return top_10\n",
    "  "
   ]
  },
  {
   "cell_type": "code",
   "execution_count": 353,
   "metadata": {},
   "outputs": [],
   "source": [
    "under_authorized_by_country = check_by_group(orders, \"country\", 0, operator.lt)"
   ]
  },
  {
   "cell_type": "code",
   "execution_count": 354,
   "metadata": {},
   "outputs": [],
   "source": [
    "over_authorized_by_country= check_by_group(orders, \"country\", 0, operator.gt)"
   ]
  },
  {
   "cell_type": "code",
   "execution_count": 355,
   "metadata": {},
   "outputs": [],
   "source": [
    "under_authorized_by_store = check_by_group(orders, \"store\", 0, operator.lt)"
   ]
  },
  {
   "cell_type": "code",
   "execution_count": 356,
   "metadata": {},
   "outputs": [],
   "source": [
    "over_authorized_by_store = check_by_group(orders, \"store\", 0, operator.gt)"
   ]
  },
  {
   "cell_type": "code",
   "execution_count": 372,
   "metadata": {},
   "outputs": [],
   "source": [
    "def count_plot(df, title=None, xlabel=None, ylabel=None):\n",
    "  column1 = df.iloc[:, 0]\n",
    "  column2 = df.iloc[:, 1]\n",
    "  sns.barplot(data=df, x=column1, y=column2, palette=\"Blues\")\n",
    "  plt.xticks(rotation=45)\n",
    "  plt.xlabel(xlabel)\n",
    "  plt.ylabel(ylabel)\n",
    "  plt.title(title)\n",
    "  plt.show()"
   ]
  },
  {
   "cell_type": "code",
   "execution_count": 373,
   "metadata": {},
   "outputs": [
    {
     "data": {
      "image/png": "[encoded data removed]",
      "text/plain": [
       "<Figure size 640x480 with 1 Axes>"
      ]
     },
     "metadata": {},
     "output_type": "display_data"
    }
   ],
   "source": [
    "count_plot(under_authorized_by_country)"
   ]
  },
  {
   "cell_type": "code",
   "execution_count": 374,
   "metadata": {},
   "outputs": [
    {
     "data": {
      "image/png": "[encoded data removed]",
      "text/plain": [
       "<Figure size 640x480 with 1 Axes>"
      ]
     },
     "metadata": {},
     "output_type": "display_data"
    }
   ],
   "source": [
    "count_plot(over_authorized_by_country)"
   ]
  },
  {
   "cell_type": "code",
   "execution_count": 375,
   "metadata": {},
   "outputs": [
    {
     "data": {
      "image/png": "[encoded data removed]",
      "text/plain": [
       "<Figure size 640x480 with 1 Axes>"
      ]
     },
     "metadata": {},
     "output_type": "display_data"
    }
   ],
   "source": [
    "count_plot(under_authorized_by_store)"
   ]
  },
  {
   "cell_type": "code",
   "execution_count": 376,
   "metadata": {},
   "outputs": [
    {
     "data": {
      "image/png": "[encoded data removed]",
      "text/plain": [
       "<Figure size 640x480 with 1 Axes>"
      ]
     },
     "metadata": {},
     "output_type": "display_data"
    }
   ],
   "source": [
    "count_plot(over_authorized_by_store)"
   ]
  },
  {
   "cell_type": "code",
   "execution_count": 362,
   "metadata": {},
   "outputs": [
    {
     "data": {
      "image/png": "[encoded data removed]",
      "text/plain": [
       "<Figure size 640x480 with 1 Axes>"
      ]
     },
     "metadata": {},
     "output_type": "display_data"
    }
   ],
   "source": [
    "sns.scatterplot(data=orders, x='country_code', y='money_diference_percentage')\n",
    "plt.xticks(rotation=45)\n",
    "plt.xlabel(\"Countries\")\n",
    "plt.ylabel(\"%Diference amount\")\n",
    "plt.title(\"Percentage of diference between countries\")\n",
    "plt.show();"
   ]
  },
  {
   "cell_type": "code",
   "execution_count": 363,
   "metadata": {},
   "outputs": [
    {
     "data": {
      "text/html": [
       "<div>\n",
       "<style scoped>\n",
       "    .dataframe tbody tr th:only-of-type {\n",
       "        vertical-align: middle;\n",
       "    }\n",
       "\n",
       "    .dataframe tbody tr th {\n",
       "        vertical-align: top;\n",
       "    }\n",
       "\n",
       "    .dataframe thead th {\n",
       "        text-align: right;\n",
       "    }\n",
       "</style>\n",
       "<table border=\"1\" class=\"dataframe\">\n",
       "  <thead>\n",
       "    <tr style=\"text-align: right;\">\n",
       "      <th></th>\n",
       "      <th>country_code</th>\n",
       "      <th>money_diference_percentage_x</th>\n",
       "      <th>money_diference_percentage_y</th>\n",
       "    </tr>\n",
       "  </thead>\n",
       "  <tbody>\n",
       "    <tr>\n",
       "      <th>0</th>\n",
       "      <td>ES</td>\n",
       "      <td>3195</td>\n",
       "      <td>7965</td>\n",
       "    </tr>\n",
       "    <tr>\n",
       "      <th>1</th>\n",
       "      <td>AR</td>\n",
       "      <td>2842</td>\n",
       "      <td>7994</td>\n",
       "    </tr>\n",
       "    <tr>\n",
       "      <th>2</th>\n",
       "      <td>TR</td>\n",
       "      <td>1130</td>\n",
       "      <td>3216</td>\n",
       "    </tr>\n",
       "    <tr>\n",
       "      <th>3</th>\n",
       "      <td>PE</td>\n",
       "      <td>866</td>\n",
       "      <td>2675</td>\n",
       "    </tr>\n",
       "    <tr>\n",
       "      <th>4</th>\n",
       "      <td>IT</td>\n",
       "      <td>852</td>\n",
       "      <td>1553</td>\n",
       "    </tr>\n",
       "    <tr>\n",
       "      <th>5</th>\n",
       "      <td>UA</td>\n",
       "      <td>793</td>\n",
       "      <td>2003</td>\n",
       "    </tr>\n",
       "    <tr>\n",
       "      <th>6</th>\n",
       "      <td>FR</td>\n",
       "      <td>607</td>\n",
       "      <td>1402</td>\n",
       "    </tr>\n",
       "    <tr>\n",
       "      <th>7</th>\n",
       "      <td>RO</td>\n",
       "      <td>474</td>\n",
       "      <td>1006</td>\n",
       "    </tr>\n",
       "    <tr>\n",
       "      <th>8</th>\n",
       "      <td>EC</td>\n",
       "      <td>431</td>\n",
       "      <td>1611</td>\n",
       "    </tr>\n",
       "  </tbody>\n",
       "</table>\n",
       "</div>"
      ],
      "text/plain": [
       "  country_code  money_diference_percentage_x  money_diference_percentage_y\n",
       "0           ES                          3195                          7965\n",
       "1           AR                          2842                          7994\n",
       "2           TR                          1130                          3216\n",
       "3           PE                           866                          2675\n",
       "4           IT                           852                          1553\n",
       "5           UA                           793                          2003\n",
       "6           FR                           607                          1402\n",
       "7           RO                           474                          1006\n",
       "8           EC                           431                          1611"
      ]
     },
     "execution_count": 363,
     "metadata": {},
     "output_type": "execute_result"
    }
   ],
   "source": [
    "merged_by_country = pd.merge(under_authorized_by_country, over_authorized_by_country, on=\"country_code\", how=\"inner\")\n",
    "merged_by_country"
   ]
  },
  {
   "cell_type": "code",
   "execution_count": 364,
   "metadata": {},
   "outputs": [
    {
     "data": {
      "text/html": [
       "<div>\n",
       "<style scoped>\n",
       "    .dataframe tbody tr th:only-of-type {\n",
       "        vertical-align: middle;\n",
       "    }\n",
       "\n",
       "    .dataframe tbody tr th {\n",
       "        vertical-align: top;\n",
       "    }\n",
       "\n",
       "    .dataframe thead th {\n",
       "        text-align: right;\n",
       "    }\n",
       "</style>\n",
       "<table border=\"1\" class=\"dataframe\">\n",
       "  <thead>\n",
       "    <tr style=\"text-align: right;\">\n",
       "      <th></th>\n",
       "      <th>store_address</th>\n",
       "      <th>money_diference_percentage_x</th>\n",
       "      <th>money_diference_percentage_y</th>\n",
       "    </tr>\n",
       "  </thead>\n",
       "  <tbody>\n",
       "    <tr>\n",
       "      <th>0</th>\n",
       "      <td>12513</td>\n",
       "      <td>54</td>\n",
       "      <td>126</td>\n",
       "    </tr>\n",
       "  </tbody>\n",
       "</table>\n",
       "</div>"
      ],
      "text/plain": [
       "   store_address  money_diference_percentage_x  money_diference_percentage_y\n",
       "0          12513                            54                           126"
      ]
     },
     "execution_count": 364,
     "metadata": {},
     "output_type": "execute_result"
    }
   ],
   "source": [
    "merged_by_store = pd.merge(under_authorized_by_store, over_authorized_by_store, on=\"store_address\", how=\"inner\")\n",
    "merged_by_store"
   ]
  },
  {
   "cell_type": "code",
   "execution_count": 365,
   "metadata": {},
   "outputs": [
    {
     "data": {
      "text/html": [
       "<div>\n",
       "<style scoped>\n",
       "    .dataframe tbody tr th:only-of-type {\n",
       "        vertical-align: middle;\n",
       "    }\n",
       "\n",
       "    .dataframe tbody tr th {\n",
       "        vertical-align: top;\n",
       "    }\n",
       "\n",
       "    .dataframe thead th {\n",
       "        text-align: right;\n",
       "    }\n",
       "</style>\n",
       "<table border=\"1\" class=\"dataframe\">\n",
       "  <thead>\n",
       "    <tr style=\"text-align: right;\">\n",
       "      <th></th>\n",
       "      <th>order_id</th>\n",
       "      <th>activation_time_local</th>\n",
       "      <th>country_code</th>\n",
       "      <th>store_address</th>\n",
       "      <th>final_status</th>\n",
       "      <th>payment_status</th>\n",
       "      <th>products</th>\n",
       "      <th>products_total</th>\n",
       "      <th>purchase_total_price</th>\n",
       "      <th>money_diference_percentage</th>\n",
       "    </tr>\n",
       "  </thead>\n",
       "  <tbody>\n",
       "    <tr>\n",
       "      <th>0</th>\n",
       "      <td>33557880</td>\n",
       "      <td>2019-03-10 23:59:59.000000</td>\n",
       "      <td>AR</td>\n",
       "      <td>14200</td>\n",
       "      <td>DeliveredStatus</td>\n",
       "      <td>PAID</td>\n",
       "      <td>1</td>\n",
       "      <td>4.54</td>\n",
       "      <td>8.64</td>\n",
       "      <td>90.308370</td>\n",
       "    </tr>\n",
       "    <tr>\n",
       "      <th>1</th>\n",
       "      <td>33512615</td>\n",
       "      <td>2019-03-10 23:58:32.000000</td>\n",
       "      <td>TR</td>\n",
       "      <td>28725</td>\n",
       "      <td>DeliveredStatus</td>\n",
       "      <td>PAID</td>\n",
       "      <td>1</td>\n",
       "      <td>3.76</td>\n",
       "      <td>3.76</td>\n",
       "      <td>0.000000</td>\n",
       "    </tr>\n",
       "    <tr>\n",
       "      <th>2</th>\n",
       "      <td>33512451</td>\n",
       "      <td>2019-03-10 23:57:56.000000</td>\n",
       "      <td>TR</td>\n",
       "      <td>28725</td>\n",
       "      <td>DeliveredStatus</td>\n",
       "      <td>PAID</td>\n",
       "      <td>1</td>\n",
       "      <td>2.86</td>\n",
       "      <td>2.86</td>\n",
       "      <td>0.000000</td>\n",
       "    </tr>\n",
       "    <tr>\n",
       "      <th>4</th>\n",
       "      <td>33557765</td>\n",
       "      <td>2019-03-10 23:57:21.000000</td>\n",
       "      <td>AR</td>\n",
       "      <td>34565</td>\n",
       "      <td>DeliveredStatus</td>\n",
       "      <td>PAID</td>\n",
       "      <td>2</td>\n",
       "      <td>2.86</td>\n",
       "      <td>6.48</td>\n",
       "      <td>126.573427</td>\n",
       "    </tr>\n",
       "    <tr>\n",
       "      <th>5</th>\n",
       "      <td>33512273</td>\n",
       "      <td>2019-03-10 23:57:13.000000</td>\n",
       "      <td>TR</td>\n",
       "      <td>63536</td>\n",
       "      <td>DeliveredStatus</td>\n",
       "      <td>PAID</td>\n",
       "      <td>4</td>\n",
       "      <td>1.88</td>\n",
       "      <td>1.96</td>\n",
       "      <td>4.255319</td>\n",
       "    </tr>\n",
       "    <tr>\n",
       "      <th>...</th>\n",
       "      <td>...</td>\n",
       "      <td>...</td>\n",
       "      <td>...</td>\n",
       "      <td>...</td>\n",
       "      <td>...</td>\n",
       "      <td>...</td>\n",
       "      <td>...</td>\n",
       "      <td>...</td>\n",
       "      <td>...</td>\n",
       "      <td>...</td>\n",
       "    </tr>\n",
       "    <tr>\n",
       "      <th>60393</th>\n",
       "      <td>31961779</td>\n",
       "      <td>2019-03-01 00:09:57.000000</td>\n",
       "      <td>TR</td>\n",
       "      <td>34953</td>\n",
       "      <td>DeliveredStatus</td>\n",
       "      <td>PAID</td>\n",
       "      <td>1</td>\n",
       "      <td>1.80</td>\n",
       "      <td>1.80</td>\n",
       "      <td>0.000000</td>\n",
       "    </tr>\n",
       "    <tr>\n",
       "      <th>60394</th>\n",
       "      <td>32002340</td>\n",
       "      <td>2019-03-01 00:09:21.000000</td>\n",
       "      <td>AR</td>\n",
       "      <td>14455</td>\n",
       "      <td>DeliveredStatus</td>\n",
       "      <td>NOT_PAID</td>\n",
       "      <td>2</td>\n",
       "      <td>5.14</td>\n",
       "      <td>5.14</td>\n",
       "      <td>0.000000</td>\n",
       "    </tr>\n",
       "    <tr>\n",
       "      <th>60395</th>\n",
       "      <td>31960607</td>\n",
       "      <td>2019-03-01 00:04:31.000000</td>\n",
       "      <td>TR</td>\n",
       "      <td>68820</td>\n",
       "      <td>DeliveredStatus</td>\n",
       "      <td>PAID</td>\n",
       "      <td>2</td>\n",
       "      <td>10.17</td>\n",
       "      <td>10.33</td>\n",
       "      <td>1.573255</td>\n",
       "    </tr>\n",
       "    <tr>\n",
       "      <th>60397</th>\n",
       "      <td>32002046</td>\n",
       "      <td>2019-03-01 00:03:06.000000</td>\n",
       "      <td>AR</td>\n",
       "      <td>55159</td>\n",
       "      <td>DeliveredStatus</td>\n",
       "      <td>PAID</td>\n",
       "      <td>1</td>\n",
       "      <td>4.24</td>\n",
       "      <td>4.91</td>\n",
       "      <td>15.801887</td>\n",
       "    </tr>\n",
       "    <tr>\n",
       "      <th>60399</th>\n",
       "      <td>32001318</td>\n",
       "      <td>2019-03-01 00:01:00.000000</td>\n",
       "      <td>AR</td>\n",
       "      <td>55159</td>\n",
       "      <td>DeliveredStatus</td>\n",
       "      <td>NOT_PAID</td>\n",
       "      <td>2</td>\n",
       "      <td>5.14</td>\n",
       "      <td>5.58</td>\n",
       "      <td>8.560311</td>\n",
       "    </tr>\n",
       "  </tbody>\n",
       "</table>\n",
       "<p>53903 rows × 10 columns</p>\n",
       "</div>"
      ],
      "text/plain": [
       "       order_id       activation_time_local country_code  store_address  \\\n",
       "0      33557880  2019-03-10 23:59:59.000000           AR          14200   \n",
       "1      33512615  2019-03-10 23:58:32.000000           TR          28725   \n",
       "2      33512451  2019-03-10 23:57:56.000000           TR          28725   \n",
       "4      33557765  2019-03-10 23:57:21.000000           AR          34565   \n",
       "5      33512273  2019-03-10 23:57:13.000000           TR          63536   \n",
       "...         ...                         ...          ...            ...   \n",
       "60393  31961779  2019-03-01 00:09:57.000000           TR          34953   \n",
       "60394  32002340  2019-03-01 00:09:21.000000           AR          14455   \n",
       "60395  31960607  2019-03-01 00:04:31.000000           TR          68820   \n",
       "60397  32002046  2019-03-01 00:03:06.000000           AR          55159   \n",
       "60399  32001318  2019-03-01 00:01:00.000000           AR          55159   \n",
       "\n",
       "          final_status payment_status  products  products_total  \\\n",
       "0      DeliveredStatus           PAID         1            4.54   \n",
       "1      DeliveredStatus           PAID         1            3.76   \n",
       "2      DeliveredStatus           PAID         1            2.86   \n",
       "4      DeliveredStatus           PAID         2            2.86   \n",
       "5      DeliveredStatus           PAID         4            1.88   \n",
       "...                ...            ...       ...             ...   \n",
       "60393  DeliveredStatus           PAID         1            1.80   \n",
       "60394  DeliveredStatus       NOT_PAID         2            5.14   \n",
       "60395  DeliveredStatus           PAID         2           10.17   \n",
       "60397  DeliveredStatus           PAID         1            4.24   \n",
       "60399  DeliveredStatus       NOT_PAID         2            5.14   \n",
       "\n",
       "       purchase_total_price  money_diference_percentage  \n",
       "0                      8.64                   90.308370  \n",
       "1                      3.76                    0.000000  \n",
       "2                      2.86                    0.000000  \n",
       "4                      6.48                  126.573427  \n",
       "5                      1.96                    4.255319  \n",
       "...                     ...                         ...  \n",
       "60393                  1.80                    0.000000  \n",
       "60394                  5.14                    0.000000  \n",
       "60395                 10.33                    1.573255  \n",
       "60397                  4.91                   15.801887  \n",
       "60399                  5.58                    8.560311  \n",
       "\n",
       "[53903 rows x 10 columns]"
      ]
     },
     "execution_count": 365,
     "metadata": {},
     "output_type": "execute_result"
    }
   ],
   "source": [
    "cleaned_orders = orders.query(\"final_status != 'CanceledStatus'\")\n",
    "cleaned_orders"
   ]
  },
  {
   "cell_type": "code",
   "execution_count": 366,
   "metadata": {},
   "outputs": [
    {
     "data": {
      "text/plain": [
       "'13.379589262193198% of the orders are under authoridzed orders'"
      ]
     },
     "execution_count": 366,
     "metadata": {},
     "output_type": "execute_result"
    }
   ],
   "source": [
    "check_orders(cleaned_orders, 0, operator.lt)"
   ]
  },
  {
   "cell_type": "code",
   "execution_count": 367,
   "metadata": {},
   "outputs": [
    {
     "data": {
      "text/plain": [
       "'34.322764966699445% of the orders are correctly authorized w/ incremental authorization'"
      ]
     },
     "execution_count": 367,
     "metadata": {},
     "output_type": "execute_result"
    }
   ],
   "source": [
    "check_orders(cleaned_orders, 20, operator.gt)"
   ]
  },
  {
   "cell_type": "code",
   "execution_count": 368,
   "metadata": {},
   "outputs": [],
   "source": [
    "under_authorized_by_country_no_cancel = check_by_group(cleaned_orders, \"country\", 0, operator.lt)\n",
    "over_authorized_by_country_no_cancel = check_by_group(cleaned_orders, \"country\", 20, operator.gt)\n",
    "under_authorized_by_store_no_cancel = check_by_group(cleaned_orders, \"store\", 0, operator.lt)\n",
    "over_authorized_by_store_no_cancel = check_by_group(cleaned_orders, \"store\", 20, operator.gt)"
   ]
  },
  {
   "cell_type": "code",
   "execution_count": 369,
   "metadata": {},
   "outputs": [
    {
     "data": {
      "image/png": "[encoded data removed]",
      "text/plain": [
       "<Figure size 640x480 with 1 Axes>"
      ]
     },
     "metadata": {},
     "output_type": "display_data"
    }
   ],
   "source": [
    "sns.scatterplot(data=cleaned_orders, x='country_code', y='money_diference_percentage')\n",
    "plt.xticks(rotation=45)\n",
    "plt.xlabel(\"Countries\")\n",
    "plt.ylabel(\"%Diference amount\")\n",
    "plt.title(\"Percentage of diference between countries\")\n",
    "plt.show();"
   ]
  },
  {
   "cell_type": "code",
   "execution_count": 370,
   "metadata": {},
   "outputs": [],
   "source": [
    "def average_of_df(df):\n",
    "  df.groupby(\"final_status\")[\"purchase_total_price\"].mean().reset_index()"
   ]
  },
  {
   "cell_type": "code",
   "execution_count": 371,
   "metadata": {},
   "outputs": [
    {
     "data": {
      "text/html": [
       "<div>\n",
       "<style scoped>\n",
       "    .dataframe tbody tr th:only-of-type {\n",
       "        vertical-align: middle;\n",
       "    }\n",
       "\n",
       "    .dataframe tbody tr th {\n",
       "        vertical-align: top;\n",
       "    }\n",
       "\n",
       "    .dataframe thead th {\n",
       "        text-align: right;\n",
       "    }\n",
       "</style>\n",
       "<table border=\"1\" class=\"dataframe\">\n",
       "  <thead>\n",
       "    <tr style=\"text-align: right;\">\n",
       "      <th></th>\n",
       "      <th>final_status</th>\n",
       "      <th>purchase_total_price</th>\n",
       "    </tr>\n",
       "  </thead>\n",
       "  <tbody>\n",
       "    <tr>\n",
       "      <th>0</th>\n",
       "      <td>CanceledStatus</td>\n",
       "      <td>1.481679</td>\n",
       "    </tr>\n",
       "    <tr>\n",
       "      <th>1</th>\n",
       "      <td>DeliveredStatus</td>\n",
       "      <td>11.814959</td>\n",
       "    </tr>\n",
       "  </tbody>\n",
       "</table>\n",
       "</div>"
      ],
      "text/plain": [
       "      final_status  purchase_total_price\n",
       "0   CanceledStatus              1.481679\n",
       "1  DeliveredStatus             11.814959"
      ]
     },
     "execution_count": 371,
     "metadata": {},
     "output_type": "execute_result"
    }
   ],
   "source": [
    "orders.groupby(\"final_status\")[\"purchase_total_price\"].mean().reset_index()"
   ]
  },
  {
   "cell_type": "code",
   "execution_count": null,
   "metadata": {},
   "outputs": [],
   "source": []
  }
 ],
 "metadata": {
  "kernelspec": {
   "display_name": "ironhack",
   "language": "python",
   "name": "python3"
  },
  "language_info": {
   "codemirror_mode": {
    "name": "ipython",
    "version": 3
   },
   "file_extension": ".py",
   "mimetype": "text/x-python",
   "name": "python",
   "nbconvert_exporter": "python",
   "pygments_lexer": "ipython3",
   "version": "3.11.5"
  }
 },
 "nbformat": 4,
 "nbformat_minor": 2
}
